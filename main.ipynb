{
 "cells": [
  {
   "cell_type": "code",
   "execution_count": 60,
   "id": "dcb87b8a",
   "metadata": {},
   "outputs": [],
   "source": [
    "import itertools\n"
   ]
  },
  {
   "cell_type": "code",
   "execution_count": null,
   "id": "3a1bfe3e",
   "metadata": {},
   "outputs": [],
   "source": []
  },
  {
   "cell_type": "code",
   "execution_count": null,
   "id": "2983b247",
   "metadata": {},
   "outputs": [],
   "source": []
  },
  {
   "cell_type": "code",
   "execution_count": 61,
   "id": "3bb57418",
   "metadata": {},
   "outputs": [
    {
     "data": {
      "text/plain": [
       "[[0, 0, 0],\n",
       " [0, 0, 0],\n",
       " [0, 0, 1],\n",
       " [0, 1, 0],\n",
       " [0, 1, 1],\n",
       " [1, 0, 0],\n",
       " [1, 0, 0],\n",
       " [1, 1, 0],\n",
       " [1, 1, 1]]"
      ]
     },
     "execution_count": 61,
     "metadata": {},
     "output_type": "execute_result"
    }
   ],
   "source": [
    "data = [\n",
    "        [0,0,0],\n",
    "        [1,0,0],\n",
    "        [0,1,0],\n",
    "        [1,0,0],\n",
    "        [1,1,0],\n",
    "        [0,0,0],\n",
    "        [0,0,1],\n",
    "        [0,1,1],\n",
    "        [1,1,1]\n",
    "       ]\n",
    "\n",
    "data.sort()\n",
    "data"
   ]
  },
  {
   "cell_type": "code",
   "execution_count": 62,
   "id": "41c86466",
   "metadata": {},
   "outputs": [
    {
     "data": {
      "text/plain": [
       "[[0, 0, 0], [0, 0, 1], [0, 1, 0], [0, 1, 1], [1, 0, 0], [1, 1, 0], [1, 1, 1]]"
      ]
     },
     "execution_count": 62,
     "metadata": {},
     "output_type": "execute_result"
    }
   ],
   "source": [
    "unique_data = [x for i, x in enumerate(data) if x not in data[:i]]\n",
    "unique_data"
   ]
  },
  {
   "cell_type": "markdown",
   "id": "44757680",
   "metadata": {},
   "source": [
    "### ①：候補"
   ]
  },
  {
   "cell_type": "markdown",
   "id": "006e31ff",
   "metadata": {},
   "source": [
    "候補は2^3で8個ある"
   ]
  },
  {
   "cell_type": "code",
   "execution_count": null,
   "id": "adfe2898",
   "metadata": {},
   "outputs": [],
   "source": []
  },
  {
   "cell_type": "code",
   "execution_count": 63,
   "id": "e0501a44",
   "metadata": {},
   "outputs": [
    {
     "data": {
      "text/plain": [
       "[[0, 0, 0],\n",
       " [0, 0, 1],\n",
       " [0, 1, 0],\n",
       " [0, 1, 1],\n",
       " [1, 0, 0],\n",
       " [1, 0, 1],\n",
       " [1, 1, 0],\n",
       " [1, 1, 1]]"
      ]
     },
     "execution_count": 63,
     "metadata": {},
     "output_type": "execute_result"
    }
   ],
   "source": [
    "candidates = []\n",
    "\n",
    "for i in range(2):\n",
    "    for j in range(2):\n",
    "        for k in range(2):\n",
    "            candidates.append([i,j,k])\n",
    "            \n",
    "candidates"
   ]
  },
  {
   "cell_type": "markdown",
   "id": "73d61642",
   "metadata": {},
   "source": [
    "### ②：3つ取り出す"
   ]
  },
  {
   "cell_type": "code",
   "execution_count": 27,
   "id": "685cfab0",
   "metadata": {},
   "outputs": [
    {
     "data": {
      "text/plain": [
       "[[0, 0, 0], [0, 0, 1], [0, 1, 0]]"
      ]
     },
     "execution_count": 27,
     "metadata": {},
     "output_type": "execute_result"
    }
   ],
   "source": [
    "candidates_selected = candidates[0:3]\n",
    "candidates_selected"
   ]
  },
  {
   "cell_type": "code",
   "execution_count": 56,
   "id": "02efbc8f",
   "metadata": {},
   "outputs": [
    {
     "name": "stdout",
     "output_type": "stream",
     "text": [
      "[0, 0, 0]\n",
      "0.2222222222222222\n",
      "0.0\n",
      "[0, 0, 1]\n",
      "0.1111111111111111\n",
      "0.0\n",
      "[0, 1, 0]\n",
      "0.1111111111111111\n",
      "0.0\n",
      "[0, 1, 1]\n",
      "0.1111111111111111\n",
      "0.1111111111111111\n",
      "[1, 0, 0]\n",
      "0.2222222222222222\n",
      "0.2222222222222222\n",
      "[1, 1, 0]\n",
      "0.1111111111111111\n",
      "0.1111111111111111\n",
      "[1, 1, 1]\n",
      "0.1111111111111111\n",
      "0.1111111111111111\n",
      "0.5555555555555556\n"
     ]
    }
   ],
   "source": [
    "# insert\n",
    "\n",
    "sum_zansa_kitaichi = 0\n",
    "\n",
    "for unique in unique_data:\n",
    "    print(unique)\n",
    "    min_zansa_kitaichi = 9999\n",
    "    \n",
    "    # 候補の中で一番小さいクラスを求める\n",
    "    min_zansa = 9999\n",
    "    for candidate in candidates_selected:\n",
    "        sabun = [x - y for x, y in zip(unique, candidate)]\n",
    "        \n",
    "        zansa = 9999\n",
    "        \n",
    "        \n",
    "        if candidate == unique:\n",
    "            zansa = 0\n",
    "        else:\n",
    "            zansa = 1\n",
    "            \n",
    "        \n",
    "        \n",
    "#         if sabun != [0,0,0]:\n",
    "#             zansa = 1\n",
    "#         else:\n",
    "#             zansa = 0\n",
    "            \n",
    "        \n",
    "        # dをループさせて、一番小さいやつをクラスの掛け算のもととする。\n",
    "#         d = 9999\n",
    "#         for num in sabun:\n",
    "#             num_squared = num**2\n",
    "#             d = min(d,num_squared)\n",
    "        \n",
    "        min_zansa = min(zansa, min_zansa)\n",
    "        \n",
    "\n",
    "        \n",
    "    \n",
    "    # ここで1レコードに対する残差期待値を求める\n",
    "    kakuritu = data.count(unique)/len(data)\n",
    "    \n",
    "    zansa_kitaichi = min_zansa * kakuritu\n",
    "    print(kakuritu)\n",
    "    print(zansa_kitaichi)\n",
    "    \n",
    "    sum_zansa_kitaichi += zansa_kitaichi\n",
    "            \n",
    "print(sum_zansa_kitaichi)\n",
    "        \n",
    "        \n",
    "\n",
    "    \n",
    "    "
   ]
  },
  {
   "cell_type": "code",
   "execution_count": null,
   "id": "f1cdd9d7",
   "metadata": {},
   "outputs": [],
   "source": [
    "sum_zansa_kitaichi = 0\n",
    "\n",
    "for unique in unique_data:\n",
    "    print(unique)\n",
    "    min_zansa_kitaichi = 9999\n",
    "    \n",
    "    # 候補の中で一番小さいクラスを求める\n",
    "    min_zansa = 9999\n",
    "    for candidate in candidates_selected:\n",
    "        sabun = [x - y for x, y in zip(unique, candidate)]\n",
    "        \n",
    "        zansa = 9999\n",
    "        \n",
    "        if candidate == unique:\n",
    "            zansa = 0\n",
    "        else:\n",
    "            zansa = 1\n",
    "            \n",
    "        min_zansa = min(zansa, min_zansa)\n",
    "    \n",
    "    # ここで1レコードに対する残差期待値を求める\n",
    "    kakuritu = data.count(unique)/len(data) # 出現確率\n",
    "    \n",
    "    zansa_kitaichi = min_zansa * kakuritu\n",
    "    sum_zansa_kitaichi += zansa_kitaichi\n",
    "            \n",
    "print(sum_zansa_kitaichi)\n"
   ]
  },
  {
   "cell_type": "code",
   "execution_count": null,
   "id": "fdf5fad9",
   "metadata": {},
   "outputs": [],
   "source": []
  },
  {
   "cell_type": "code",
   "execution_count": null,
   "id": "a90f5aca",
   "metadata": {},
   "outputs": [],
   "source": []
  },
  {
   "cell_type": "code",
   "execution_count": null,
   "id": "a66132b3",
   "metadata": {},
   "outputs": [],
   "source": []
  },
  {
   "cell_type": "code",
   "execution_count": null,
   "id": "2f83b41c",
   "metadata": {},
   "outputs": [],
   "source": []
  },
  {
   "cell_type": "code",
   "execution_count": null,
   "id": "c0e759da",
   "metadata": {},
   "outputs": [],
   "source": []
  },
  {
   "cell_type": "code",
   "execution_count": 89,
   "id": "a2854986",
   "metadata": {},
   "outputs": [],
   "source": [
    "three_candidates = itertools.combinations(candidates, 3)"
   ]
  },
  {
   "cell_type": "code",
   "execution_count": 90,
   "id": "0b2a16a8",
   "metadata": {},
   "outputs": [
    {
     "data": {
      "text/plain": [
       "<itertools.combinations at 0x7f82391b4810>"
      ]
     },
     "execution_count": 90,
     "metadata": {},
     "output_type": "execute_result"
    }
   ],
   "source": [
    "three_candidates"
   ]
  },
  {
   "cell_type": "code",
   "execution_count": 91,
   "id": "8c9971dc",
   "metadata": {},
   "outputs": [
    {
     "name": "stdout",
     "output_type": "stream",
     "text": [
      "([0, 0, 0], [0, 0, 1], [0, 1, 0])\n",
      "この時の残差合計和は 0.5555555555555556\n",
      "([0, 0, 0], [0, 0, 1], [0, 1, 1])\n",
      "この時の残差合計和は 0.5555555555555556\n",
      "([0, 0, 0], [0, 0, 1], [1, 0, 0])\n",
      "この時の残差合計和は 0.4444444444444444\n",
      "([0, 0, 0], [0, 1, 0], [1, 0, 0])\n",
      "この時の残差合計和は 0.4444444444444444\n",
      "([0, 0, 0], [0, 1, 1], [1, 0, 0])\n",
      "この時の残差合計和は 0.4444444444444444\n",
      "([0, 0, 0], [1, 0, 0], [1, 1, 0])\n",
      "この時の残差合計和は 0.4444444444444444\n",
      "([0, 0, 0], [1, 0, 0], [1, 1, 1])\n",
      "この時の残差合計和は 0.4444444444444444\n"
     ]
    }
   ],
   "source": [
    "zansa = 0\n",
    "suitable_combination_index = 0\n",
    "\n",
    "# これが56回ループ\n",
    "\n",
    "min_sum_zansa_kitaichi = 9999\n",
    "\n",
    "for three_candidate in three_candidates:\n",
    "    three_num_list = [list(item) for item in three_candidate]\n",
    "        \n",
    "    sum_zansa_kitaichi = 0\n",
    "\n",
    "    for unique in unique_data:\n",
    "        min_zansa_kitaichi = 9999\n",
    "\n",
    "        # 候補の中で一番小さいクラスを求める\n",
    "        min_zansa = 9999\n",
    "        for candidate in three_num_list:\n",
    "            sabun = [x - y for x, y in zip(unique, candidate)]\n",
    "\n",
    "            zansa = 9999\n",
    "\n",
    "            if candidate == unique:\n",
    "                zansa = 0\n",
    "            else:\n",
    "                zansa = 1\n",
    "\n",
    "            min_zansa = min(zansa, min_zansa)\n",
    "\n",
    "        # ここで1レコードに対する残差期待値を求める\n",
    "        kakuritu = data.count(unique)/len(data) # 出現確率\n",
    "\n",
    "        zansa_kitaichi = min_zansa * kakuritu\n",
    "        sum_zansa_kitaichi += zansa_kitaichi\n",
    "\n",
    "    \n",
    "    # 残差期待値が最小となる候補を更新する\n",
    "    if min_sum_zansa_kitaichi >= sum_zansa_kitaichi:\n",
    "        min_sum_zansa_kitaichi = sum_zansa_kitaichi\n",
    "        print(three_candidate)\n",
    "        print(\"この時の残差合計和は\", min_sum_zansa_kitaichi)\n",
    "        \n",
    "    \n",
    "    \n",
    "\n",
    "    \n",
    "    "
   ]
  },
  {
   "cell_type": "code",
   "execution_count": null,
   "id": "fbcc7084",
   "metadata": {},
   "outputs": [],
   "source": []
  }
 ],
 "metadata": {
  "kernelspec": {
   "display_name": "Python 3 (ipykernel)",
   "language": "python",
   "name": "python3"
  },
  "language_info": {
   "codemirror_mode": {
    "name": "ipython",
    "version": 3
   },
   "file_extension": ".py",
   "mimetype": "text/x-python",
   "name": "python",
   "nbconvert_exporter": "python",
   "pygments_lexer": "ipython3",
   "version": "3.9.13"
  }
 },
 "nbformat": 4,
 "nbformat_minor": 5
}
