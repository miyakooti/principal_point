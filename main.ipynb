{
 "cells": [
  {
   "cell_type": "markdown",
   "id": "48e61ef3",
   "metadata": {},
   "source": [
    "### リファクタリングあんまできてないです、ごめんなさい"
   ]
  },
  {
   "cell_type": "code",
   "execution_count": 1,
   "id": "dcb87b8a",
   "metadata": {},
   "outputs": [],
   "source": [
    "import itertools\n",
    "import math"
   ]
  },
  {
   "cell_type": "code",
   "execution_count": 2,
   "id": "3bb57418",
   "metadata": {},
   "outputs": [
    {
     "data": {
      "text/plain": [
       "[[0, 0, 0],\n",
       " [0, 0, 0],\n",
       " [0, 0, 1],\n",
       " [0, 1, 0],\n",
       " [0, 1, 1],\n",
       " [1, 0, 0],\n",
       " [1, 0, 0],\n",
       " [1, 1, 0],\n",
       " [1, 1, 1]]"
      ]
     },
     "execution_count": 2,
     "metadata": {},
     "output_type": "execute_result"
    }
   ],
   "source": [
    "data = [\n",
    "        [0,0,0],\n",
    "        [1,0,0],\n",
    "        [0,1,0],\n",
    "        [1,0,0],\n",
    "        [1,1,0],\n",
    "        [0,0,0],\n",
    "        [0,0,1],\n",
    "        [0,1,1],\n",
    "        [1,1,1]\n",
    "       ]\n",
    "\n",
    "data.sort()\n",
    "data"
   ]
  },
  {
   "cell_type": "code",
   "execution_count": 3,
   "id": "41c86466",
   "metadata": {},
   "outputs": [
    {
     "data": {
      "text/plain": [
       "[[0, 0, 0], [0, 0, 1], [0, 1, 0], [0, 1, 1], [1, 0, 0], [1, 1, 0], [1, 1, 1]]"
      ]
     },
     "execution_count": 3,
     "metadata": {},
     "output_type": "execute_result"
    }
   ],
   "source": [
    "unique_data = [x for i, x in enumerate(data) if x not in data[:i]]\n",
    "unique_data"
   ]
  },
  {
   "cell_type": "markdown",
   "id": "44757680",
   "metadata": {},
   "source": [
    "### ①：候補"
   ]
  },
  {
   "cell_type": "markdown",
   "id": "006e31ff",
   "metadata": {},
   "source": [
    "候補は2^3で8個ある。これらを8C3で組み合わせることで、候補としていく。"
   ]
  },
  {
   "cell_type": "code",
   "execution_count": 4,
   "id": "e0501a44",
   "metadata": {},
   "outputs": [
    {
     "data": {
      "text/plain": [
       "[[0, 0, 0],\n",
       " [0, 0, 1],\n",
       " [0, 1, 0],\n",
       " [0, 1, 1],\n",
       " [1, 0, 0],\n",
       " [1, 0, 1],\n",
       " [1, 1, 0],\n",
       " [1, 1, 1]]"
      ]
     },
     "execution_count": 4,
     "metadata": {},
     "output_type": "execute_result"
    }
   ],
   "source": [
    "candidates = []\n",
    "\n",
    "for i in range(2):\n",
    "    for j in range(2):\n",
    "        for k in range(2):\n",
    "            candidates.append([i,j,k])\n",
    "            \n",
    "candidates"
   ]
  },
  {
   "cell_type": "markdown",
   "id": "73d61642",
   "metadata": {},
   "source": [
    "### ②：3つ取り出す"
   ]
  },
  {
   "cell_type": "code",
   "execution_count": 5,
   "id": "685cfab0",
   "metadata": {
    "scrolled": true
   },
   "outputs": [
    {
     "data": {
      "text/plain": [
       "[[0, 0, 0], [0, 0, 1], [0, 1, 0]]"
      ]
     },
     "execution_count": 5,
     "metadata": {},
     "output_type": "execute_result"
    }
   ],
   "source": [
    "candidates_selected = candidates[0:3]\n",
    "candidates_selected"
   ]
  },
  {
   "cell_type": "code",
   "execution_count": 6,
   "id": "743e8cae",
   "metadata": {},
   "outputs": [],
   "source": [
    "def calc_distance_from_sabun(lst):\n",
    "    squared_list = [num**2 for num in lst]\n",
    "    goukei = sum(squared_list)\n",
    "    d = math.sqrt(goukei)\n",
    "    return d"
   ]
  },
  {
   "cell_type": "code",
   "execution_count": 7,
   "id": "02efbc8f",
   "metadata": {},
   "outputs": [
    {
     "name": "stdout",
     "output_type": "stream",
     "text": [
      "record[0, 0, 0]に対する残差期待値は、0.0です。\n",
      "record[0, 0, 1]に対する残差期待値は、0.0です。\n",
      "record[0, 1, 0]に対する残差期待値は、0.0です。\n",
      "record[0, 1, 1]に対する残差期待値は、0.1111111111111111です。\n",
      "record[1, 0, 0]に対する残差期待値は、0.2222222222222222です。\n",
      "record[1, 1, 0]に対する残差期待値は、0.1111111111111111です。\n",
      "record[1, 1, 1]に対する残差期待値は、0.15713484026367722です。\n",
      "\n",
      "組み合わせが[[0, 0, 0], [0, 0, 1], [0, 1, 0]]の場合、残差期待値の合計は0.6015792847081216です。\n"
     ]
    }
   ],
   "source": [
    "# insert\n",
    "\n",
    "sum_zansa_kitaichi = 0\n",
    "\n",
    "for unique in unique_data:\n",
    "    \n",
    "    min_zansa_kitaichi = 9999\n",
    "    \n",
    "    # 候補の中で一番小さい距離を求める\n",
    "    min_d = 9999\n",
    "    for candidate in candidates_selected:\n",
    "\n",
    "        sabun = [x - y for x, y in zip(unique, candidate)]\n",
    "        \n",
    "        \n",
    "        d = calc_distance_from_sabun(sabun)\n",
    "                \n",
    "        min_d = min(min_d, d)  \n",
    "            \n",
    "    # ここで1レコードに対する残差期待値を求める\n",
    "    kakuritu = data.count(unique)/len(data)\n",
    "    zansa_kitaichi = min_d * kakuritu\n",
    "    \n",
    "    print(f\"record{unique}に対する残差期待値は、{zansa_kitaichi}です。\")\n",
    "    \n",
    "    sum_zansa_kitaichi += zansa_kitaichi\n",
    "    \n",
    "    \n",
    "            \n",
    "print(f\"\\n組み合わせが{candidates_selected}の場合、残差期待値の合計は{sum_zansa_kitaichi}です。\")\n"
   ]
  },
  {
   "cell_type": "code",
   "execution_count": null,
   "id": "fdf5fad9",
   "metadata": {},
   "outputs": [],
   "source": []
  },
  {
   "cell_type": "code",
   "execution_count": null,
   "id": "a90f5aca",
   "metadata": {},
   "outputs": [],
   "source": []
  },
  {
   "cell_type": "code",
   "execution_count": null,
   "id": "a66132b3",
   "metadata": {},
   "outputs": [],
   "source": []
  },
  {
   "cell_type": "code",
   "execution_count": null,
   "id": "2f83b41c",
   "metadata": {},
   "outputs": [],
   "source": []
  },
  {
   "cell_type": "markdown",
   "id": "c6988c97",
   "metadata": {},
   "source": [
    "# ③：それを全ての組み合わせて実行し、最適な組み合わせを見つける。"
   ]
  },
  {
   "cell_type": "code",
   "execution_count": 8,
   "id": "a2854986",
   "metadata": {},
   "outputs": [],
   "source": [
    "three_candidates = itertools.combinations(candidates, 3)"
   ]
  },
  {
   "cell_type": "code",
   "execution_count": 9,
   "id": "0b2a16a8",
   "metadata": {},
   "outputs": [
    {
     "data": {
      "text/plain": [
       "<itertools.combinations at 0x7fda90021630>"
      ]
     },
     "execution_count": 9,
     "metadata": {},
     "output_type": "execute_result"
    }
   ],
   "source": [
    "three_candidates"
   ]
  },
  {
   "cell_type": "code",
   "execution_count": 10,
   "id": "8c9971dc",
   "metadata": {
    "scrolled": true
   },
   "outputs": [
    {
     "name": "stdout",
     "output_type": "stream",
     "text": [
      "-------- 回答 ---------\n",
      "\n",
      "最適解1：組み合わせは([0, 0, 0], [0, 1, 1], [1, 0, 0])で、この時の残差の合計は0.4444444444444444でした。\n",
      "\n",
      "最適解2：組み合わせは([0, 0, 0], [1, 0, 0], [1, 1, 1])で、この時の残差の合計は0.4444444444444444でした。\n",
      "\n"
     ]
    }
   ],
   "source": [
    "zansa = 0\n",
    "\n",
    "ans = []\n",
    "\n",
    "# これが56回ループ\n",
    "\n",
    "min_sum_zansa_kitaichi = 9999\n",
    "\n",
    "for three_candidate in three_candidates:\n",
    "    three_num_list = [list(item) for item in three_candidate]\n",
    "        \n",
    "    sum_zansa_kitaichi = 0\n",
    "\n",
    "    for unique in unique_data:\n",
    "        min_zansa_kitaichi = 9999\n",
    "\n",
    "        # 候補の中で一番小さいクラスを求める\n",
    "        min_d = 9999\n",
    "        for candidate in three_num_list:\n",
    "            sabun = [x - y for x, y in zip(unique, candidate)]\n",
    "\n",
    "            d = calc_distance_from_sabun(sabun)\n",
    "            min_d = min(d, min_d)\n",
    "\n",
    "        # ここで1レコードに対する残差期待値を求める\n",
    "        kakuritu = data.count(unique)/len(data) # 出現確率\n",
    "\n",
    "        zansa_kitaichi = min_d * kakuritu\n",
    "        sum_zansa_kitaichi += zansa_kitaichi\n",
    "\n",
    "    \n",
    "    # 残差期待値が最小となる候補を更新する\n",
    "    \n",
    "    # 同率1位\n",
    "    if min_sum_zansa_kitaichi == sum_zansa_kitaichi:\n",
    "        i = len(ans)+1\n",
    "        ans.append(f\"最適解{i}：組み合わせは{three_candidate}で、この時の残差の合計は{min_sum_zansa_kitaichi}でした。\")\n",
    "    \n",
    "    elif min_sum_zansa_kitaichi > sum_zansa_kitaichi:\n",
    "        min_sum_zansa_kitaichi = sum_zansa_kitaichi\n",
    "        \n",
    "        # それよりいい組み合わせが見つかったので、既存のやつ消す\n",
    "        ans = []\n",
    "        \n",
    "        i = len(ans)+1\n",
    "        ans.append(f\"最適解{i}：組み合わせは{three_candidate}で、この時の残差の合計は{min_sum_zansa_kitaichi}でした。\")\n",
    "    \n",
    "print(\"-------- 回答 ---------\\n\")    \n",
    "    \n",
    "for a in ans:\n",
    "    print(f\"{a}\\n\")\n",
    "    \n",
    "\n",
    "    \n",
    "    "
   ]
  },
  {
   "cell_type": "code",
   "execution_count": null,
   "id": "934633c3",
   "metadata": {},
   "outputs": [],
   "source": []
  },
  {
   "cell_type": "markdown",
   "id": "cbd6eacf",
   "metadata": {},
   "source": [
    "# 最適な組み合わせは([0, 0, 0], [0, 1, 1], [1, 0, 0])と([0, 0, 0], [1, 0, 0], [1, 1, 1])になりました。"
   ]
  },
  {
   "cell_type": "code",
   "execution_count": null,
   "id": "703131e5",
   "metadata": {},
   "outputs": [],
   "source": []
  },
  {
   "cell_type": "code",
   "execution_count": null,
   "id": "d0199a76",
   "metadata": {},
   "outputs": [],
   "source": []
  }
 ],
 "metadata": {
  "kernelspec": {
   "display_name": "Python 3 (ipykernel)",
   "language": "python",
   "name": "python3"
  },
  "language_info": {
   "codemirror_mode": {
    "name": "ipython",
    "version": 3
   },
   "file_extension": ".py",
   "mimetype": "text/x-python",
   "name": "python",
   "nbconvert_exporter": "python",
   "pygments_lexer": "ipython3",
   "version": "3.9.13"
  }
 },
 "nbformat": 4,
 "nbformat_minor": 5
}
